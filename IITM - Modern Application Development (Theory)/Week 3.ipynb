{
 "cells": [
  {
   "cell_type": "code",
   "execution_count": 1,
   "id": "f6167448",
   "metadata": {},
   "outputs": [
    {
     "name": "stdout",
     "output_type": "stream",
     "text": [
      "Collecting pyhtml\n",
      "  Downloading PyHTML-1.3.2.tar.gz (6.6 kB)\n",
      "  Preparing metadata (setup.py) ... \u001b[?25ldone\n",
      "\u001b[?25hRequirement already satisfied: six in /Users/muddassirkhalidi/anaconda3/lib/python3.11/site-packages (from pyhtml) (1.16.0)\n",
      "Building wheels for collected packages: pyhtml\n",
      "  Building wheel for pyhtml (setup.py) ... \u001b[?25ldone\n",
      "\u001b[?25h  Created wheel for pyhtml: filename=PyHTML-1.3.2-py3-none-any.whl size=6551 sha256=904fe6bc18cb8df05eca55127733468549ac57401825b075974850fba1ca9576\n",
      "  Stored in directory: /Users/muddassirkhalidi/Library/Caches/pip/wheels/7c/13/b1/bb34458e9887748fa1711aade40cfbde4f2ec39b52aade1f37\n",
      "Successfully built pyhtml\n",
      "Installing collected packages: pyhtml\n",
      "Successfully installed pyhtml-1.3.2\n",
      "Note: you may need to restart the kernel to use updated packages.\n"
     ]
    }
   ],
   "source": [
    "pip install pyhtml"
   ]
  },
  {
   "cell_type": "code",
   "execution_count": 5,
   "id": "e02f721c",
   "metadata": {},
   "outputs": [
    {
     "name": "stdout",
     "output_type": "stream",
     "text": [
      "<!DOCTYPE html>\n",
      "<html>\n",
      "  <head>\n",
      "    <title>\n",
      "      Text Page\n",
      "    </title>\n",
      "  </head>\n",
      "  <body>\n",
      "    <h1>\n",
      "      This is a title\n",
      "    </h1>\n",
      "    <div>\n",
      "      This is some text\n",
      "    </div>\n",
      "    <div>\n",
      "      <h2>\n",
      "        inside text\n",
      "      </h2>\n",
      "      <p>\n",
      "        some text in a paragraph\n",
      "      </p>\n",
      "    </div>\n",
      "  </body>\n",
      "</html>\n"
     ]
    }
   ],
   "source": [
    "import pyhtml as h\n",
    "t = h.html(\n",
    "    h.head(\n",
    "        h.title('Text Page')\n",
    "    ),\n",
    "    h.body(\n",
    "        h.h1('This is a title'),\n",
    "        h.div('This is some text'),\n",
    "        h.div(h.h2('inside text'),\n",
    "            h.p('some text in a paragraph'))\n",
    "    )\n",
    ")\n",
    "\n",
    "print(t.render())"
   ]
  },
  {
   "cell_type": "code",
   "execution_count": 8,
   "id": "2e3e1b0c",
   "metadata": {},
   "outputs": [
    {
     "name": "stdout",
     "output_type": "stream",
     "text": [
      "Tim Cook is the CEO of Apple Inc.\n"
     ]
    }
   ],
   "source": [
    "from string import Template\n",
    "t = Template('$name is the $job of $company')\n",
    "s = t.substitute(name = 'Tim Cook', job = 'CEO', company = 'Apple Inc.')\n",
    "print(s)"
   ]
  },
  {
   "cell_type": "code",
   "execution_count": 9,
   "id": "6267877d",
   "metadata": {},
   "outputs": [
    {
     "name": "stdout",
     "output_type": "stream",
     "text": [
      "Hello World\n"
     ]
    }
   ],
   "source": [
    "from jinja2 import Template\n",
    "t = Template('Hello {{something}}')\n",
    "s = t.render(something = 'World')\n",
    "print(s)"
   ]
  },
  {
   "cell_type": "code",
   "execution_count": 16,
   "id": "a2a624bd",
   "metadata": {},
   "outputs": [
    {
     "name": "stdout",
     "output_type": "stream",
     "text": [
      "My favourite numbers are : 1 2 3 4 5 6 7 8 9 \n"
     ]
    }
   ],
   "source": [
    "from jinja2 import Template\n",
    "\n",
    "t = Template(\"My favourite numbers are : {% for n in range(1,10) %}{{n}} {% endfor %}\")\n",
    "print(t.render())\n"
   ]
  },
  {
   "cell_type": "code",
   "execution_count": null,
   "id": "46018066",
   "metadata": {},
   "outputs": [],
   "source": []
  }
 ],
 "metadata": {
  "kernelspec": {
   "display_name": "Python 3 (ipykernel)",
   "language": "python",
   "name": "python3"
  },
  "language_info": {
   "codemirror_mode": {
    "name": "ipython",
    "version": 3
   },
   "file_extension": ".py",
   "mimetype": "text/x-python",
   "name": "python",
   "nbconvert_exporter": "python",
   "pygments_lexer": "ipython3",
   "version": "3.11.5"
  }
 },
 "nbformat": 4,
 "nbformat_minor": 5
}
