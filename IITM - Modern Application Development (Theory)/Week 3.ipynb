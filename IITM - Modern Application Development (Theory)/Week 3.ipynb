{
 "cells": [
  {
   "cell_type": "code",
   "execution_count": 1,
   "id": "f6167448",
   "metadata": {},
   "outputs": [],
   "source": [
    "# pip install pyhtml"
   ]
  },
  {
   "cell_type": "code",
   "execution_count": 2,
   "id": "e02f721c",
   "metadata": {},
   "outputs": [
    {
     "name": "stdout",
     "output_type": "stream",
     "text": [
      "<!DOCTYPE html>\n",
      "<html>\n",
      "  <head>\n",
      "    <title>\n",
      "      Text Page\n",
      "    </title>\n",
      "  </head>\n",
      "  <body>\n",
      "    <h1>\n",
      "      This is a title\n",
      "    </h1>\n",
      "    <div>\n",
      "      This is some text\n",
      "    </div>\n",
      "    <div>\n",
      "      <h2>\n",
      "        inside text\n",
      "      </h2>\n",
      "      <p>\n",
      "        some text in a paragraph\n",
      "      </p>\n",
      "    </div>\n",
      "  </body>\n",
      "</html>\n"
     ]
    }
   ],
   "source": [
    "import pyhtml as h\n",
    "t = h.html(\n",
    "    h.head(\n",
    "        h.title('Text Page')\n",
    "    ),\n",
    "    h.body(\n",
    "        h.h1('This is a title'),\n",
    "        h.div('This is some text'),\n",
    "        h.div(h.h2('inside text'),\n",
    "            h.p('some text in a paragraph'))\n",
    "    )\n",
    ")\n",
    "\n",
    "print(t.render())"
   ]
  },
  {
   "cell_type": "code",
   "execution_count": 8,
   "id": "2e3e1b0c",
   "metadata": {},
   "outputs": [
    {
     "name": "stdout",
     "output_type": "stream",
     "text": [
      "Tim Cook is the CEO of Apple Inc.\n"
     ]
    }
   ],
   "source": [
    "from string import Template\n",
    "t = Template('$name is the $job of $company')\n",
    "s = t.substitute(name = 'Tim Cook', job = 'CEO', company = 'Apple Inc.')\n",
    "print(s)"
   ]
  },
  {
   "cell_type": "code",
   "execution_count": 9,
   "id": "6267877d",
   "metadata": {},
   "outputs": [
    {
     "name": "stdout",
     "output_type": "stream",
     "text": [
      "Hello World\n"
     ]
    }
   ],
   "source": [
    "from jinja2 import Template\n",
    "t = Template('Hello {{something}}')\n",
    "s = t.render(something = 'World')\n",
    "print(s)"
   ]
  },
  {
   "cell_type": "code",
   "execution_count": 18,
   "id": "a2a624bd",
   "metadata": {},
   "outputs": [
    {
     "name": "stdout",
     "output_type": "stream",
     "text": [
      "My favourite numbers are : 2, 4, 6, \n"
     ]
    }
   ],
   "source": [
    "from jinja2 import Template\n",
    "\n",
    "t = Template(\"My favourite numbers are : {% for n in [2,4,6] %}{{n}}, {% endfor %}\")\n",
    "print(t.render())\n"
   ]
  },
  {
   "cell_type": "code",
   "execution_count": 1,
   "id": "46018066",
   "metadata": {},
   "outputs": [],
   "source": [
    "from jinja2 import Template"
   ]
  },
  {
   "cell_type": "code",
   "execution_count": 2,
   "id": "d713e217",
   "metadata": {},
   "outputs": [
    {
     "data": {
      "text/plain": [
       "'The special numbers are  0 2 1 0 2 1'"
      ]
     },
     "execution_count": 2,
     "metadata": {},
     "output_type": "execute_result"
    }
   ],
   "source": [
    "statement = Template('The special numbers are {% for n in range(11) if n % 2 == 0 %} {{n%3}}' '{% endfor %}')\n",
    "statement.render()"
   ]
  },
  {
   "cell_type": "code",
   "execution_count": 3,
   "id": "790dd252",
   "metadata": {},
   "outputs": [
    {
     "name": "stdout",
     "output_type": "stream",
     "text": [
      "IIT Madras provides Data Science \n",
      "IIT Madras provides  Programming\n"
     ]
    }
   ],
   "source": [
    "statement1 = Template('IIT Madras provides {{var1}} {{var2}}')\n",
    "statement2 = Template('IIT Madras provides {{var1}} {{var2}}')\n",
    "\n",
    "out1 = statement1.render(var1 = 'Data Science')\n",
    "out2 = statement2.render(var2 = 'Programming')\n",
    "\n",
    "print(out1)\n",
    "print(out2)"
   ]
  },
  {
   "cell_type": "code",
   "execution_count": 5,
   "id": "145943cc",
   "metadata": {},
   "outputs": [
    {
     "name": "stdout",
     "output_type": "stream",
     "text": [
      "<!DOCTYPE html>\n",
      "<html>\n",
      "  <head></head>\n",
      "  <body>\n",
      "    <h1>\n",
      "      Heading 1\n",
      "    </h1>\n",
      "    <em>\n",
      "      My name is ram\n",
      "    </em>\n",
      "    <strong>\n",
      "      bold\n",
      "    </strong>\n",
      "    <div>\n",
      "      <h2>\n",
      "        Heading 2\n",
      "      </h2>\n",
      "      <div>\n",
      "        This is a nested div section\n",
      "      </div>\n",
      "    </div>\n",
      "    <div>\n",
      "      <h3>\n",
      "        Heading 3\n",
      "      </h3>\n",
      "      <p>\n",
      "        This is a paragraph\n",
      "      </p>\n",
      "    </div>\n",
      "  </body>\n",
      "</html>\n"
     ]
    }
   ],
   "source": [
    "import pyhtml as ht\n",
    "t=ht.html(ht.head(),\n",
    "ht.body(\n",
    "ht.h1(\"Heading 1\"),ht.em(\"My name is ram\"),ht.strong(\"bold\"),\n",
    "ht.div(ht.h2(\"Heading 2\"),\n",
    "ht.div(\"This is a nested div section\")),\n",
    "ht.div(ht.h3(\"Heading 3\"),\n",
    "ht.p(\"This is a paragraph\")),\n",
    "))\n",
    "print(t.render())"
   ]
  },
  {
   "cell_type": "code",
   "execution_count": null,
   "id": "8598f87b",
   "metadata": {},
   "outputs": [],
   "source": []
  }
 ],
 "metadata": {
  "kernelspec": {
   "display_name": "Python 3 (ipykernel)",
   "language": "python",
   "name": "python3"
  },
  "language_info": {
   "codemirror_mode": {
    "name": "ipython",
    "version": 3
   },
   "file_extension": ".py",
   "mimetype": "text/x-python",
   "name": "python",
   "nbconvert_exporter": "python",
   "pygments_lexer": "ipython3",
   "version": "3.11.5"
  }
 },
 "nbformat": 4,
 "nbformat_minor": 5
}
